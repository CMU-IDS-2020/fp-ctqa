{
  "nbformat": 4,
  "nbformat_minor": 0,
  "metadata": {
    "colab": {
      "name": "our-train-adj.ipynb",
      "provenance": [],
      "collapsed_sections": []
    },
    "kernelspec": {
      "name": "python3",
      "display_name": "Python 3"
    },
    "accelerator": "GPU"
  },
  "cells": [
    {
      "cell_type": "code",
      "metadata": {
        "colab": {
          "base_uri": "https://localhost:8080/"
        },
        "id": "_jGuJWHhCJ8L",
        "outputId": "8a4196c2-b005-4654-be6f-8a90a3101188"
      },
      "source": [
        "import time\n",
        "import os\n",
        "import numpy as np\n",
        "import google.colab as colab\n",
        "import random\n",
        "import json\n",
        "%matplotlib inline\n",
        "import matplotlib.pyplot as plt\n",
        "from multiprocessing import Pool\n",
        "import shutil\n",
        "from pprint import pprint\n",
        "import pickle\n",
        "from random import randint\n",
        "import pandas as pd\n",
        "\n",
        "import re\n",
        "import inspect\n",
        "import torch\n",
        "from torch import optim\n",
        "from torch.autograd import Variable\n",
        "import torch.nn as nn\n",
        "\n",
        "import nltk\n",
        "nltk.download('punkt')\n",
        "\n",
        "import warnings\n",
        "warnings.filterwarnings('ignore')\n",
        "\n",
        "%load_ext autoreload\n",
        "%autoreload 2\n",
        "%matplotlib inline"
      ],
      "execution_count": 2,
      "outputs": [
        {
          "output_type": "stream",
          "text": [
            "[nltk_data] Downloading package punkt to /root/nltk_data...\n",
            "[nltk_data]   Package punkt is already up-to-date!\n"
          ],
          "name": "stdout"
        }
      ]
    },
    {
      "cell_type": "markdown",
      "metadata": {
        "id": "lfs2-AL8JD0i"
      },
      "source": [
        "# Mount Google Drive"
      ]
    },
    {
      "cell_type": "code",
      "metadata": {
        "id": "xykwbqUrJJUg"
      },
      "source": [
        "def mount_google_drive():\n",
        "\t'''\n",
        "\t# Functionality\n",
        "\t\tMount google drive. Since colab does not save files, we want to make it easier to directly access files in google drive.\n",
        "\t# Arguments\n",
        "\t\tNothing\n",
        "\t# Returns\n",
        "\t\tdrive_root: the working directory mounted\n",
        "\t'''\n",
        "\tmount_directory = \"/content/gdrive\"\n",
        "\tdrive = colab.drive\n",
        "\tdrive.mount(mount_directory, force_remount=True)\n",
        "\tdrive_root = mount_directory + \"/\" + list(filter(lambda x: x[0] != '.', os.listdir(mount_directory)))[0]\n",
        "\treturn drive_root"
      ],
      "execution_count": 4,
      "outputs": []
    },
    {
      "cell_type": "code",
      "metadata": {
        "id": "hq7hUZxgJK7S",
        "colab": {
          "base_uri": "https://localhost:8080/"
        },
        "outputId": "d766ba0f-5621-4f14-9620-6c0ba056f9fa"
      },
      "source": [
        "# Please Set up mounted directories here. Notice whether you want to balance dataset\n",
        "ROOT_DIR =  mount_google_drive() + \"/05839-Final-Project/code/\"\n",
        "\n",
        "DATASET_PATH = ROOT_DIR + \"quora.csv\"\n",
        "\n",
        "NLI_NET_DIR = ROOT_DIR + \"models/NliNetUtils/\"\n",
        "\n",
        "CHECKPOINT_DIR = ROOT_DIR + \"checkpoints/\""
      ],
      "execution_count": 5,
      "outputs": [
        {
          "output_type": "stream",
          "text": [
            "Mounted at /content/gdrive\n"
          ],
          "name": "stdout"
        }
      ]
    },
    {
      "cell_type": "code",
      "metadata": {
        "id": "wcSJYLrLNL9F"
      },
      "source": [
        "# Migrate utils from drive to current dir so that we don't need to upload a folder from local every time\n",
        "shutil.rmtree('utils/', ignore_errors=True)\n",
        "_ = shutil.copytree(ROOT_DIR +\"/utils/\", \"utils/\")"
      ],
      "execution_count": 6,
      "outputs": []
    },
    {
      "cell_type": "code",
      "metadata": {
        "id": "2j5FQDGmKQ54"
      },
      "source": [
        "# Load custimizable utils here\n",
        "from utils.file_utils import *\n",
        "from utils.image_utils import *\n",
        "from utils.generator_utils import *\n",
        "from utils.tqdm_utils import *\n",
        "from utils.keras_utils import *"
      ],
      "execution_count": 7,
      "outputs": []
    },
    {
      "cell_type": "code",
      "metadata": {
        "id": "PEXNCE090hAn",
        "colab": {
          "base_uri": "https://localhost:8080/",
          "height": 35
        },
        "outputId": "92348030-3d43-4994-ab51-503789a9b578"
      },
      "source": [
        "# Load infersent model related files\n",
        "shutil.rmtree('models.py', ignore_errors=True)\n",
        "shutil.copy(NLI_NET_DIR + \"models.py\", \"models.py\")\n",
        "\n",
        "shutil.rmtree('data.py', ignore_errors=True)\n",
        "shutil.copy(NLI_NET_DIR + \"data.py\", \"data.py\")\n",
        "\n",
        "shutil.rmtree('mutils.py', ignore_errors=True)\n",
        "shutil.copy(NLI_NET_DIR + \"mutils.py\", \"mutils.py\")\n"
      ],
      "execution_count": 8,
      "outputs": [
        {
          "output_type": "execute_result",
          "data": {
            "application/vnd.google.colaboratory.intrinsic+json": {
              "type": "string"
            },
            "text/plain": [
              "'mutils.py'"
            ]
          },
          "metadata": {
            "tags": []
          },
          "execution_count": 8
        }
      ]
    },
    {
      "cell_type": "code",
      "metadata": {
        "id": "Evmmh-AigeML"
      },
      "source": [
        "# shutil.rmtree('fastText/', ignore_errors=True)\n",
        "# shutil.copytree(ROOT_DIR + \"fastText/\", \"fastText/\")"
      ],
      "execution_count": 9,
      "outputs": []
    },
    {
      "cell_type": "code",
      "metadata": {
        "id": "XDrpU37uJR3g"
      },
      "source": [
        "from data import get_nli, get_batch, build_vocab\n",
        "from mutils import get_optimizer\n",
        "from models import NLINet"
      ],
      "execution_count": 10,
      "outputs": []
    },
    {
      "cell_type": "code",
      "metadata": {
        "id": "paLUu7Y5HToJ"
      },
      "source": [
        "def get_optimizer(s):\n",
        "    \"\"\"\n",
        "    Parse optimizer parameters.\n",
        "    Input should be of the form:\n",
        "        - \"sgd,lr=0.01\"\n",
        "        - \"adagrad,lr=0.1,lr_decay=0.05\"\n",
        "    \"\"\"\n",
        "    if \",\" in s:\n",
        "        method = s[:s.find(',')]\n",
        "        optim_params = {}\n",
        "        for x in s[s.find(',') + 1:].split(','):\n",
        "            split = x.split('=')\n",
        "            assert len(split) == 2\n",
        "            assert re.match(\"^[+-]?(\\d+(\\.\\d*)?|\\.\\d+)$\", split[1]) is not None\n",
        "            optim_params[split[0]] = float(split[1])\n",
        "    else:\n",
        "        method = s\n",
        "        optim_params = {}\n",
        "\n",
        "    if method == 'adadelta':\n",
        "        optim_fn = optim.Adadelta\n",
        "    elif method == 'adagrad':\n",
        "        optim_fn = optim.Adagrad\n",
        "    elif method == 'adam':\n",
        "        optim_fn = optim.Adam\n",
        "    elif method == 'adamax':\n",
        "        optim_fn = optim.Adamax\n",
        "    elif method == 'asgd':\n",
        "        optim_fn = optim.ASGD\n",
        "    elif method == 'rmsprop':\n",
        "        optim_fn = optim.RMSprop\n",
        "    elif method == 'rprop':\n",
        "        optim_fn = optim.Rprop\n",
        "    elif method == 'sgd':\n",
        "        optim_fn = optim.SGD\n",
        "        assert 'lr' in optim_params\n",
        "    else:\n",
        "        raise Exception('Unknown optimization method: \"%s\"' % method)\n",
        "\n",
        "    # check that we give good parameters to the optimizer\n",
        "    expected_args = inspect.getargspec(optim_fn.__init__)[0]\n",
        "    assert expected_args[:2] == ['self', 'params']\n",
        "    if not all(k in expected_args[2:] for k in optim_params.keys()):\n",
        "        raise Exception('Unexpected parameters: expected \"%s\", got \"%s\"' % (\n",
        "            str(expected_args[2:]), str(optim_params.keys())))\n",
        "\n",
        "    return optim_fn, optim_params"
      ],
      "execution_count": 11,
      "outputs": []
    },
    {
      "cell_type": "code",
      "metadata": {
        "colab": {
          "base_uri": "https://localhost:8080/"
        },
        "id": "ZMwTFPfVZ6G1",
        "outputId": "347a21bd-673b-46c4-ec93-aab99981e133"
      },
      "source": [
        "torch.cuda.is_available()"
      ],
      "execution_count": 12,
      "outputs": [
        {
          "output_type": "execute_result",
          "data": {
            "text/plain": [
              "True"
            ]
          },
          "metadata": {
            "tags": []
          },
          "execution_count": 12
        }
      ]
    },
    {
      "cell_type": "code",
      "metadata": {
        "id": "nPXk2_AClljz"
      },
      "source": [
        "config_nli_model = {\n",
        "    'n_words'        :  72764                 , # Number of distinct words in the wordvec\n",
        "    'word_emb_dim'   :  300                   , # Dimension of word embeddings\n",
        "    'dpout_model'    :  0.                    , # Dropout\n",
        "    'enc_lstm_dim'   :  2048                  ,\n",
        "    'dpout_fc'       :  0.5                   ,\n",
        "    'fc_dim'         :  512                   ,\n",
        "    'bsize'          :  64                    ,\n",
        "    'n_classes'      :  2                     ,\n",
        "    'pool_type'      :  'max'                 ,\n",
        "    'nonlinear_fc'   :  0                     ,\n",
        "    'encoder_type'   :  'InferSent'           , # see list of encoders\n",
        "    'use_cuda'       :  True                  ,\n",
        "    'optimizer'      :  \"adam\"         ,\n",
        "    'decay'          :  0.99                  ,\n",
        "    'max_norm'       :  5.                    ,\n",
        "    'minlr'          :  1e-5                  ,\n",
        "    'outputdir'      :  CHECKPOINT_DIR        ,\n",
        "    'outputmodelname':  'dmodel.pickle.encoder.pkl'     ,\n",
        "    'lrshrink'       :  5                     ,\n",
        "    'n_epochs'       :  10\n",
        "}\n"
      ],
      "execution_count": 22,
      "outputs": []
    },
    {
      "cell_type": "code",
      "metadata": {
        "colab": {
          "base_uri": "https://localhost:8080/"
        },
        "id": "7UnRMFAylrJ4",
        "outputId": "3e560bec-d687-4710-9796-51fc510e781d"
      },
      "source": [
        "nli_net = NLINet(config_nli_model)\n",
        "print(nli_net)"
      ],
      "execution_count": 23,
      "outputs": [
        {
          "output_type": "stream",
          "text": [
            "NLINet(\n",
            "  (encoder): InferSent(\n",
            "    (enc_lstm): LSTM(300, 2048, bidirectional=True)\n",
            "  )\n",
            "  (classifier): Sequential(\n",
            "    (0): Linear(in_features=16384, out_features=2, bias=True)\n",
            "  )\n",
            ")\n"
          ],
          "name": "stdout"
        }
      ]
    },
    {
      "cell_type": "code",
      "metadata": {
        "id": "MnaFbzX6thUT"
      },
      "source": [
        "infersent = nli_net.encoder"
      ],
      "execution_count": 33,
      "outputs": []
    },
    {
      "cell_type": "code",
      "metadata": {
        "colab": {
          "base_uri": "https://localhost:8080/"
        },
        "id": "SaPTROqel3sg",
        "outputId": "80d68b97-95bb-4c76-f3e4-79c7fa1550d2"
      },
      "source": [
        "infersent.load_state_dict(torch.load(os.path.join(config_nli_model['outputdir'], config_nli_model['outputmodelname'])))"
      ],
      "execution_count": 34,
      "outputs": [
        {
          "output_type": "execute_result",
          "data": {
            "text/plain": [
              "<All keys matched successfully>"
            ]
          },
          "metadata": {
            "tags": []
          },
          "execution_count": 34
        }
      ]
    },
    {
      "cell_type": "code",
      "metadata": {
        "colab": {
          "base_uri": "https://localhost:8080/"
        },
        "id": "PkA3BriVl6Sm",
        "outputId": "c537c060-d04d-48af-8024-0388414370dc"
      },
      "source": [
        "infersent.set_w2v_path(ROOT_DIR + \"glove.840B.300d.txt\")\n",
        "infersent.build_vocab_k_words(K=500000)"
      ],
      "execution_count": 36,
      "outputs": [
        {
          "output_type": "stream",
          "text": [
            "Vocab size : 500000\n"
          ],
          "name": "stdout"
        }
      ]
    },
    {
      "cell_type": "code",
      "metadata": {
        "id": "NSU7wlq8mA5r"
      },
      "source": [
        "def text_prepare(text):\n",
        "    REPLACE_BY_SPACE_RE = re.compile('[/(){}\\[\\]\\|@,;#]')\n",
        "    BAD_SYMBOLS_RE = re.compile('[^0-9a-z #+_]')\n",
        "    text = str(text)\n",
        "    # text = \" \".join([word for word in text.split(\" \") if re.search('[a-zA-Z]', word)])\n",
        "    # text = text.lower()\n",
        "    # text = re.sub(REPLACE_BY_SPACE_RE, \" \", text)\n",
        "    # text = re.sub(BAD_SYMBOLS_RE, \"\", text)\n",
        "    return text\n",
        "\n",
        "def cosine(u, v):\n",
        "  # compute the similarity between two embeddings\n",
        "  # u and v are matrices!\n",
        "    result = np.einsum('ij,ij->i', u, v) / ((np.linalg.norm(u, axis=1) * np.linalg.norm(v, axis=1)))\n",
        "    return np.log(result) + 1"
      ],
      "execution_count": 37,
      "outputs": []
    },
    {
      "cell_type": "code",
      "metadata": {
        "colab": {
          "base_uri": "https://localhost:8080/"
        },
        "id": "MrMb0uC7sxZN",
        "outputId": "c583fa94-2842-489b-ce29-e64994c235aa"
      },
      "source": [
        "tweet_1 = \"Since the start of the pandemic, a total 65 WHO staff stationed in Geneva - working from home and onsite - have tested positive for #COVID19. We have not yet established whether any transmission has occurred on campus, but are looking into the matter.\"\n",
        "tweet_2 = \"WHO staff who were confirmed positive with #COVID19 in Geneva have received the necessary medical attention. WHO carried out full contact tracing and related protocols. Enhanced cleaning protocols were implemented in relevant offices.\"\n",
        "tweet_3 = \"Any tweets only my own views. More Guns,Less Crime (Univ Chicago Press, 3rd ed);10 books, 100+academic articles. PhD Econ, Advisor for Research & Science #USDOJ\"\n",
        "\n",
        "print(\"The similarity score between premise and hypoetheis 1 is:\")\n",
        "print(cosine(infersent.encode([text_prepare(tweet_1)]), infersent.encode([text_prepare(tweet_2)])).tolist()[0])\n",
        "print(\"The similarity score between premise and hypoetheis 2 is:\")\n",
        "print(cosine(infersent.encode([text_prepare(tweet_1)]), infersent.encode([text_prepare(tweet_3)])).tolist()[0])"
      ],
      "execution_count": 38,
      "outputs": [
        {
          "output_type": "stream",
          "text": [
            "The similarity score between premise and hypoetheis 1 is:\n",
            "0.7963457703590393\n",
            "The similarity score between premise and hypoetheis 2 is:\n",
            "0.7654701471328735\n"
          ],
          "name": "stdout"
        }
      ]
    },
    {
      "cell_type": "code",
      "metadata": {
        "id": "LtNVWsmhuK-u"
      },
      "source": [
        ""
      ],
      "execution_count": null,
      "outputs": []
    },
    {
      "cell_type": "markdown",
      "metadata": {
        "id": "UWRo1K9AXdtr"
      },
      "source": [
        "## Look at twitter data"
      ]
    },
    {
      "cell_type": "code",
      "metadata": {
        "id": "GNDrnL63XfZc"
      },
      "source": [
        "import pandas as pd"
      ],
      "execution_count": 39,
      "outputs": []
    },
    {
      "cell_type": "code",
      "metadata": {
        "id": "05DvmkGUXh46"
      },
      "source": [
        "df = pd.read_csv(ROOT_DIR + \"tweets_sample_100000.csv\")"
      ],
      "execution_count": 40,
      "outputs": []
    },
    {
      "cell_type": "code",
      "metadata": {
        "colab": {
          "base_uri": "https://localhost:8080/"
        },
        "id": "1c8cQWkMua1P",
        "outputId": "31003a34-94b3-43c9-dfe5-6d1be221f2b9"
      },
      "source": [
        "len(df)"
      ],
      "execution_count": 41,
      "outputs": [
        {
          "output_type": "execute_result",
          "data": {
            "text/plain": [
              "86522"
            ]
          },
          "metadata": {
            "tags": []
          },
          "execution_count": 41
        }
      ]
    },
    {
      "cell_type": "code",
      "metadata": {
        "colab": {
          "base_uri": "https://localhost:8080/",
          "height": 394
        },
        "id": "RY6fxMQuXmHr",
        "outputId": "e5280bcd-e5be-4b2b-8783-00f537e5f6bc"
      },
      "source": [
        "df.head()"
      ],
      "execution_count": 42,
      "outputs": [
        {
          "output_type": "execute_result",
          "data": {
            "text/html": [
              "<div>\n",
              "<style scoped>\n",
              "    .dataframe tbody tr th:only-of-type {\n",
              "        vertical-align: middle;\n",
              "    }\n",
              "\n",
              "    .dataframe tbody tr th {\n",
              "        vertical-align: top;\n",
              "    }\n",
              "\n",
              "    .dataframe thead th {\n",
              "        text-align: right;\n",
              "    }\n",
              "</style>\n",
              "<table border=\"1\" class=\"dataframe\">\n",
              "  <thead>\n",
              "    <tr style=\"text-align: right;\">\n",
              "      <th></th>\n",
              "      <th>coordinates</th>\n",
              "      <th>created_at</th>\n",
              "      <th>hashtags</th>\n",
              "      <th>media</th>\n",
              "      <th>urls</th>\n",
              "      <th>favorite_count</th>\n",
              "      <th>id</th>\n",
              "      <th>in_reply_to_screen_name</th>\n",
              "      <th>in_reply_to_status_id</th>\n",
              "      <th>in_reply_to_user_id</th>\n",
              "      <th>lang</th>\n",
              "      <th>place</th>\n",
              "      <th>possibly_sensitive</th>\n",
              "      <th>retweet_count</th>\n",
              "      <th>retweet_id</th>\n",
              "      <th>retweet_screen_name</th>\n",
              "      <th>source</th>\n",
              "      <th>text</th>\n",
              "      <th>tweet_url</th>\n",
              "      <th>user_created_at</th>\n",
              "      <th>user_screen_name</th>\n",
              "      <th>user_default_profile_image</th>\n",
              "      <th>user_description</th>\n",
              "      <th>user_favourites_count</th>\n",
              "      <th>user_followers_count</th>\n",
              "      <th>user_friends_count</th>\n",
              "      <th>user_listed_count</th>\n",
              "      <th>user_location</th>\n",
              "      <th>user_name</th>\n",
              "      <th>user_screen_name.1</th>\n",
              "      <th>user_statuses_count</th>\n",
              "      <th>user_time_zone</th>\n",
              "      <th>user_urls</th>\n",
              "      <th>user_verified</th>\n",
              "    </tr>\n",
              "  </thead>\n",
              "  <tbody>\n",
              "    <tr>\n",
              "      <th>0</th>\n",
              "      <td>NaN</td>\n",
              "      <td>Mon Jan 27 17:09:17 +0000 2020</td>\n",
              "      <td>NaN</td>\n",
              "      <td>https://twitter.com/AjnabhiiTweets/status/1221...</td>\n",
              "      <td>NaN</td>\n",
              "      <td>0</td>\n",
              "      <td>1221842625680023555</td>\n",
              "      <td>NaN</td>\n",
              "      <td>NaN</td>\n",
              "      <td>NaN</td>\n",
              "      <td>en</td>\n",
              "      <td>NaN</td>\n",
              "      <td>False</td>\n",
              "      <td>0</td>\n",
              "      <td>NaN</td>\n",
              "      <td>NaN</td>\n",
              "      <td>&lt;a href=\"https://mobile.twitter.com\" rel=\"nofo...</td>\n",
              "      <td>When the news ticker reads ‘China fights coron...</td>\n",
              "      <td>https://twitter.com/AjnabhiiTweets/status/1221...</td>\n",
              "      <td>Sat Aug 20 11:17:27 +0000 2011</td>\n",
              "      <td>AjnabhiiTweets</td>\n",
              "      <td>False</td>\n",
              "      <td>SLEAS | Translator | Writer | Poet | Critique ...</td>\n",
              "      <td>3371</td>\n",
              "      <td>1317</td>\n",
              "      <td>5</td>\n",
              "      <td>28</td>\n",
              "      <td>7°29′10″ N, 80°21′44″ E</td>\n",
              "      <td>Rimzan Amanullah</td>\n",
              "      <td>AjnabhiiTweets</td>\n",
              "      <td>42441</td>\n",
              "      <td>NaN</td>\n",
              "      <td>http://spurrism-ajnabhii.blogspot.com</td>\n",
              "      <td>False</td>\n",
              "    </tr>\n",
              "    <tr>\n",
              "      <th>1</th>\n",
              "      <td>NaN</td>\n",
              "      <td>Tue Jan 28 18:26:32 +0000 2020</td>\n",
              "      <td>NaN</td>\n",
              "      <td>NaN</td>\n",
              "      <td>https://www.jdsupra.com/legalnews/coronavirus-...</td>\n",
              "      <td>0</td>\n",
              "      <td>1222224454807277568</td>\n",
              "      <td>NaN</td>\n",
              "      <td>NaN</td>\n",
              "      <td>NaN</td>\n",
              "      <td>en</td>\n",
              "      <td>NaN</td>\n",
              "      <td>False</td>\n",
              "      <td>0</td>\n",
              "      <td>NaN</td>\n",
              "      <td>NaN</td>\n",
              "      <td>&lt;a href=\"https://www.jdsupra.com\" rel=\"nofollo...</td>\n",
              "      <td>Coronavirus Raises Privacy Concerns For Health...</td>\n",
              "      <td>https://twitter.com/BizAdvisories/status/12222...</td>\n",
              "      <td>Wed Oct 08 16:21:55 +0000 2008</td>\n",
              "      <td>BizAdvisories</td>\n",
              "      <td>False</td>\n",
              "      <td>A daily dose of news &amp; insights for entreprene...</td>\n",
              "      <td>0</td>\n",
              "      <td>4318</td>\n",
              "      <td>2133</td>\n",
              "      <td>294</td>\n",
              "      <td>JDSupra.com</td>\n",
              "      <td>Business Advisories</td>\n",
              "      <td>BizAdvisories</td>\n",
              "      <td>379229</td>\n",
              "      <td>NaN</td>\n",
              "      <td>http://www.jdsupra.com/</td>\n",
              "      <td>False</td>\n",
              "    </tr>\n",
              "    <tr>\n",
              "      <th>2</th>\n",
              "      <td>NaN</td>\n",
              "      <td>Mon Jan 27 18:59:43 +0000 2020</td>\n",
              "      <td>NaN</td>\n",
              "      <td>NaN</td>\n",
              "      <td>https://goo.gl/fb/quCuCE</td>\n",
              "      <td>0</td>\n",
              "      <td>1221870418727927809</td>\n",
              "      <td>NaN</td>\n",
              "      <td>NaN</td>\n",
              "      <td>NaN</td>\n",
              "      <td>en</td>\n",
              "      <td>NaN</td>\n",
              "      <td>False</td>\n",
              "      <td>0</td>\n",
              "      <td>NaN</td>\n",
              "      <td>NaN</td>\n",
              "      <td>&lt;a href=\"https://www.google.com/\" rel=\"nofollo...</td>\n",
              "      <td>Coronavirus Disrupts League Of Legends, CS:GO ...</td>\n",
              "      <td>https://twitter.com/freemmogamer/status/122187...</td>\n",
              "      <td>Tue Mar 17 20:31:23 +0000 2009</td>\n",
              "      <td>freemmogamer</td>\n",
              "      <td>False</td>\n",
              "      <td>All about free to play MMORPG´s and MMO Games!...</td>\n",
              "      <td>1</td>\n",
              "      <td>1999</td>\n",
              "      <td>2441</td>\n",
              "      <td>49</td>\n",
              "      <td>NaN</td>\n",
              "      <td>FreeMMOGamer.com</td>\n",
              "      <td>freemmogamer</td>\n",
              "      <td>12943</td>\n",
              "      <td>NaN</td>\n",
              "      <td>NaN</td>\n",
              "      <td>False</td>\n",
              "    </tr>\n",
              "    <tr>\n",
              "      <th>3</th>\n",
              "      <td>NaN</td>\n",
              "      <td>Mon Jan 27 17:53:40 +0000 2020</td>\n",
              "      <td>coronavirus Stop5G</td>\n",
              "      <td>NaN</td>\n",
              "      <td>NaN</td>\n",
              "      <td>0</td>\n",
              "      <td>1221853795178745862</td>\n",
              "      <td>DEADLINE</td>\n",
              "      <td>1.221836e+18</td>\n",
              "      <td>586032653.0</td>\n",
              "      <td>en</td>\n",
              "      <td>NaN</td>\n",
              "      <td>NaN</td>\n",
              "      <td>0</td>\n",
              "      <td>NaN</td>\n",
              "      <td>NaN</td>\n",
              "      <td>&lt;a href=\"https://mobile.twitter.com\" rel=\"nofo...</td>\n",
              "      <td>@DEADLINE \"5G weakens the immune system. Wuhan...</td>\n",
              "      <td>https://twitter.com/npsgirl/status/12218537951...</td>\n",
              "      <td>Fri May 23 14:11:42 +0000 2008</td>\n",
              "      <td>npsgirl</td>\n",
              "      <td>False</td>\n",
              "      <td>No Police State Girls blog is about everything...</td>\n",
              "      <td>6358</td>\n",
              "      <td>1153</td>\n",
              "      <td>2331</td>\n",
              "      <td>38</td>\n",
              "      <td>New York</td>\n",
              "      <td>npsgirl</td>\n",
              "      <td>npsgirl</td>\n",
              "      <td>16838</td>\n",
              "      <td>NaN</td>\n",
              "      <td>http://www.nopolicestate.blogspot.com</td>\n",
              "      <td>False</td>\n",
              "    </tr>\n",
              "    <tr>\n",
              "      <th>4</th>\n",
              "      <td>NaN</td>\n",
              "      <td>Mon Jan 27 19:53:56 +0000 2020</td>\n",
              "      <td>NaN</td>\n",
              "      <td>https://twitter.com/donkorgh/status/1221884062...</td>\n",
              "      <td>http://Donkorsblog.com http://bit.ly/2O327mA</td>\n",
              "      <td>0</td>\n",
              "      <td>1221884062954151942</td>\n",
              "      <td>NaN</td>\n",
              "      <td>NaN</td>\n",
              "      <td>NaN</td>\n",
              "      <td>en</td>\n",
              "      <td>NaN</td>\n",
              "      <td>False</td>\n",
              "      <td>0</td>\n",
              "      <td>NaN</td>\n",
              "      <td>NaN</td>\n",
              "      <td>&lt;a href=\"https://mobile.twitter.com\" rel=\"nofo...</td>\n",
              "      <td>https://t.co/vOTSz4VFzy: Ivory Coast tests fir...</td>\n",
              "      <td>https://twitter.com/donkorgh/status/1221884062...</td>\n",
              "      <td>Sun Jul 24 20:37:18 +0000 2011</td>\n",
              "      <td>donkorgh</td>\n",
              "      <td>False</td>\n",
              "      <td>God first, Radio is my Passion, i love Radio. ...</td>\n",
              "      <td>14677</td>\n",
              "      <td>1217</td>\n",
              "      <td>1919</td>\n",
              "      <td>31</td>\n",
              "      <td>Accra, Ghana</td>\n",
              "      <td>Emmanuel Donkor #donkorsblog</td>\n",
              "      <td>donkorgh</td>\n",
              "      <td>38100</td>\n",
              "      <td>NaN</td>\n",
              "      <td>http://www.donkorsblog.com</td>\n",
              "      <td>False</td>\n",
              "    </tr>\n",
              "  </tbody>\n",
              "</table>\n",
              "</div>"
            ],
            "text/plain": [
              "  coordinates  ... user_verified\n",
              "0         NaN  ...         False\n",
              "1         NaN  ...         False\n",
              "2         NaN  ...         False\n",
              "3         NaN  ...         False\n",
              "4         NaN  ...         False\n",
              "\n",
              "[5 rows x 34 columns]"
            ]
          },
          "metadata": {
            "tags": []
          },
          "execution_count": 42
        }
      ]
    },
    {
      "cell_type": "code",
      "metadata": {
        "id": "sjZVe6kdXuYr"
      },
      "source": [
        "tweets = df.text.tolist()"
      ],
      "execution_count": 43,
      "outputs": []
    },
    {
      "cell_type": "code",
      "metadata": {
        "id": "Uj4s_VuwSJBx"
      },
      "source": [
        "processed_tweets = list(map(text_prepare, tweets))"
      ],
      "execution_count": 45,
      "outputs": []
    },
    {
      "cell_type": "code",
      "metadata": {
        "id": "KWVM8DHNTWLi"
      },
      "source": [
        "assert len(tweets) == len(df) == len(processed_tweets)"
      ],
      "execution_count": 46,
      "outputs": []
    },
    {
      "cell_type": "code",
      "metadata": {
        "colab": {
          "base_uri": "https://localhost:8080/"
        },
        "id": "bRQP3p9USP-i",
        "outputId": "dc99e24e-f7d1-44c7-e0e6-db6979059425"
      },
      "source": [
        "processed_tweets[:5]"
      ],
      "execution_count": 47,
      "outputs": [
        {
          "output_type": "execute_result",
          "data": {
            "text/plain": [
              "['When the news ticker reads ‘China fights coronavirus outbreak’, our local Jet Li fanboys’ imagination be like: https://t.co/mIa5OMuY01',\n",
              " 'Coronavirus Raises Privacy Concerns For Healthcare Providers And Their Workers https://t.co/oct7sgGsj3 | by @jacksonlewispc',\n",
              " 'Coronavirus Disrupts League Of Legends, CS:GO Esports Events In Asia https://t.co/0SHNMXambY',\n",
              " '@DEADLINE \"5G weakens the immune system. Wuhan, China is the test site for a new 5G highway system with driverless cars. It\\'s one of the largest 5G test sites with 10,000 5G Base stations. Many predicted a risk of viral or bacterial outbreaks in such high-density EMF\" #coronavirus #Stop5G',\n",
              " 'https://t.co/vOTSz4VFzy: Ivory Coast tests first person in Africa for Coronavirus https://t.co/BM2frBj1PK https://t.co/kLBN3uVDiJ']"
            ]
          },
          "metadata": {
            "tags": []
          },
          "execution_count": 47
        }
      ]
    },
    {
      "cell_type": "code",
      "metadata": {
        "id": "s_ESXxBcOlbE"
      },
      "source": [
        "infersent = infersent.cuda()"
      ],
      "execution_count": 48,
      "outputs": []
    },
    {
      "cell_type": "code",
      "metadata": {
        "colab": {
          "base_uri": "https://localhost:8080/"
        },
        "id": "MV5dO6xIZQ7s",
        "outputId": "829f3769-f2cc-413c-d6e2-a13d897b63d3"
      },
      "source": [
        "infersent.is_cuda()"
      ],
      "execution_count": 49,
      "outputs": [
        {
          "output_type": "execute_result",
          "data": {
            "text/plain": [
              "True"
            ]
          },
          "metadata": {
            "tags": []
          },
          "execution_count": 49
        }
      ]
    },
    {
      "cell_type": "code",
      "metadata": {
        "id": "KOd8tZwKS8nv"
      },
      "source": [
        "all_tweets_emb = infersent.encode(processed_tweets)"
      ],
      "execution_count": 50,
      "outputs": []
    },
    {
      "cell_type": "code",
      "metadata": {
        "colab": {
          "base_uri": "https://localhost:8080/"
        },
        "id": "HRxmtKIGTBRV",
        "outputId": "e23d7c6f-13eb-475b-a445-a4f2a98d9be4"
      },
      "source": [
        "all_tweets_emb.shape"
      ],
      "execution_count": 51,
      "outputs": [
        {
          "output_type": "execute_result",
          "data": {
            "text/plain": [
              "(86522, 4096)"
            ]
          },
          "metadata": {
            "tags": []
          },
          "execution_count": 51
        }
      ]
    },
    {
      "cell_type": "code",
      "metadata": {
        "id": "D8LC_btcSQsL"
      },
      "source": [
        "all_scores = np.zeros((len(tweets), len(tweets)))\n",
        "for i in range(len(processed_tweets)):\n",
        "  candidate_emb = infersent.encode([processed_tweets[i]])\n",
        "  all_scores[i] = cosine(np.repeat(candidate_emb, len(processed_tweets), axis=0), all_tweets_emb)\n",
        "all_scores[np.isnan(all_scores)] = -np.inf"
      ],
      "execution_count": null,
      "outputs": []
    },
    {
      "cell_type": "code",
      "metadata": {
        "id": "Ko7_Z-P1TQ4n"
      },
      "source": [
        "all_scores"
      ],
      "execution_count": null,
      "outputs": []
    },
    {
      "cell_type": "code",
      "metadata": {
        "id": "HcRCznMoYpRH"
      },
      "source": [
        "with open('adjacency_matrix.npy', 'wb') as f:\n",
        "  np.save(f, all_scores)"
      ],
      "execution_count": null,
      "outputs": []
    },
    {
      "cell_type": "code",
      "metadata": {
        "id": "1gBzdqZcvrYX"
      },
      "source": [
        ""
      ],
      "execution_count": null,
      "outputs": []
    }
  ]
}