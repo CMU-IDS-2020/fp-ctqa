{
  "nbformat": 4,
  "nbformat_minor": 0,
  "metadata": {
    "colab": {
      "name": "training.ipynb",
      "provenance": [],
      "collapsed_sections": [],
      "toc_visible": true
    },
    "kernelspec": {
      "name": "python3",
      "display_name": "Python 3"
    },
    "accelerator": "GPU"
  },
  "cells": [
    {
      "cell_type": "markdown",
      "metadata": {
        "id": "FnHGW6DOG6aE"
      },
      "source": [
        "# Imports"
      ]
    },
    {
      "cell_type": "code",
      "metadata": {
        "id": "TCWQ8xAA_kzl",
        "colab": {
          "base_uri": "https://localhost:8080/"
        },
        "outputId": "20559207-3d62-428c-effa-3fff54c3503d"
      },
      "source": [
        "import time\n",
        "import os\n",
        "import numpy as np\n",
        "import google.colab as colab\n",
        "import random\n",
        "import json\n",
        "%matplotlib inline\n",
        "import matplotlib.pyplot as plt\n",
        "from multiprocessing import Pool\n",
        "import shutil\n",
        "from pprint import pprint\n",
        "import pickle\n",
        "from random import randint\n",
        "import pandas as pd\n",
        "\n",
        "import re\n",
        "import inspect\n",
        "import torch\n",
        "from torch import optim\n",
        "from torch.autograd import Variable\n",
        "import torch.nn as nn\n",
        "\n",
        "import nltk\n",
        "nltk.download('punkt')\n",
        "\n",
        "import warnings\n",
        "warnings.filterwarnings('ignore')\n",
        "\n",
        "%load_ext autoreload\n",
        "%autoreload 2\n",
        "%matplotlib inline"
      ],
      "execution_count": 1,
      "outputs": [
        {
          "output_type": "stream",
          "text": [
            "[nltk_data] Downloading package punkt to /root/nltk_data...\n",
            "[nltk_data]   Unzipping tokenizers/punkt.zip.\n"
          ],
          "name": "stdout"
        }
      ]
    },
    {
      "cell_type": "markdown",
      "metadata": {
        "id": "lfs2-AL8JD0i"
      },
      "source": [
        "# Mount Google Drive"
      ]
    },
    {
      "cell_type": "code",
      "metadata": {
        "id": "xykwbqUrJJUg"
      },
      "source": [
        "def mount_google_drive():\n",
        "\t'''\n",
        "\t# Functionality\n",
        "\t\tMount google drive. Since colab does not save files, we want to make it easier to directly access files in google drive.\n",
        "\t# Arguments\n",
        "\t\tNothing\n",
        "\t# Returns\n",
        "\t\tdrive_root: the working directory mounted\n",
        "\t'''\n",
        "\tmount_directory = \"/content/gdrive\"\n",
        "\tdrive = colab.drive\n",
        "\tdrive.mount(mount_directory, force_remount=True)\n",
        "\tdrive_root = mount_directory + \"/\" + list(filter(lambda x: x[0] != '.', os.listdir(mount_directory)))[0]\n",
        "\treturn drive_root"
      ],
      "execution_count": 2,
      "outputs": []
    },
    {
      "cell_type": "code",
      "metadata": {
        "id": "hq7hUZxgJK7S",
        "colab": {
          "base_uri": "https://localhost:8080/"
        },
        "outputId": "5248837b-d615-40e6-bce4-fc846f59a687"
      },
      "source": [
        "# Please Set up mounted directories here. Notice whether you want to balance dataset\n",
        "ROOT_DIR =  mount_google_drive() + \"/05839-Final-Project/code/\"\n",
        "\n",
        "DATASET_PATH = ROOT_DIR + \"quora.csv\"\n",
        "\n",
        "NLI_NET_DIR = ROOT_DIR + \"models/NliNetUtils/\"\n",
        "\n",
        "CHECKPOINT_DIR = ROOT_DIR + \"checkpoints/\""
      ],
      "execution_count": 3,
      "outputs": [
        {
          "output_type": "stream",
          "text": [
            "Mounted at /content/gdrive\n"
          ],
          "name": "stdout"
        }
      ]
    },
    {
      "cell_type": "code",
      "metadata": {
        "id": "wcSJYLrLNL9F"
      },
      "source": [
        "# Migrate utils from drive to current dir so that we don't need to upload a folder from local every time\n",
        "shutil.rmtree('utils/', ignore_errors=True)\n",
        "_ = shutil.copytree(ROOT_DIR +\"/utils/\", \"utils/\")"
      ],
      "execution_count": 4,
      "outputs": []
    },
    {
      "cell_type": "code",
      "metadata": {
        "id": "2j5FQDGmKQ54"
      },
      "source": [
        "# Load custimizable utils here\n",
        "from utils.file_utils import *\n",
        "from utils.image_utils import *\n",
        "from utils.generator_utils import *\n",
        "from utils.tqdm_utils import *\n",
        "from utils.keras_utils import *"
      ],
      "execution_count": 5,
      "outputs": []
    },
    {
      "cell_type": "code",
      "metadata": {
        "id": "PEXNCE090hAn",
        "colab": {
          "base_uri": "https://localhost:8080/",
          "height": 35
        },
        "outputId": "5367ea35-fb4a-49ae-fcd2-9ccf049e4709"
      },
      "source": [
        "# Load infersent model related files\n",
        "shutil.rmtree('models.py', ignore_errors=True)\n",
        "shutil.copy(NLI_NET_DIR + \"models.py\", \"models.py\")\n",
        "\n",
        "shutil.rmtree('data.py', ignore_errors=True)\n",
        "shutil.copy(NLI_NET_DIR + \"data.py\", \"data.py\")\n",
        "\n",
        "shutil.rmtree('mutils.py', ignore_errors=True)\n",
        "shutil.copy(NLI_NET_DIR + \"mutils.py\", \"mutils.py\")\n"
      ],
      "execution_count": 6,
      "outputs": [
        {
          "output_type": "execute_result",
          "data": {
            "application/vnd.google.colaboratory.intrinsic+json": {
              "type": "string"
            },
            "text/plain": [
              "'mutils.py'"
            ]
          },
          "metadata": {
            "tags": []
          },
          "execution_count": 6
        }
      ]
    },
    {
      "cell_type": "code",
      "metadata": {
        "id": "Evmmh-AigeML"
      },
      "source": [
        "# shutil.rmtree('fastText/', ignore_errors=True)\n",
        "# shutil.copytree(ROOT_DIR + \"fastText/\", \"fastText/\")"
      ],
      "execution_count": 7,
      "outputs": []
    },
    {
      "cell_type": "code",
      "metadata": {
        "id": "XDrpU37uJR3g"
      },
      "source": [
        "from data import get_nli, get_batch, build_vocab\n",
        "from mutils import get_optimizer\n",
        "from models import NLINet"
      ],
      "execution_count": 8,
      "outputs": []
    },
    {
      "cell_type": "code",
      "metadata": {
        "id": "paLUu7Y5HToJ"
      },
      "source": [
        "def get_optimizer(s):\n",
        "    \"\"\"\n",
        "    Parse optimizer parameters.\n",
        "    Input should be of the form:\n",
        "        - \"sgd,lr=0.01\"\n",
        "        - \"adagrad,lr=0.1,lr_decay=0.05\"\n",
        "    \"\"\"\n",
        "    if \",\" in s:\n",
        "        method = s[:s.find(',')]\n",
        "        optim_params = {}\n",
        "        for x in s[s.find(',') + 1:].split(','):\n",
        "            split = x.split('=')\n",
        "            assert len(split) == 2\n",
        "            assert re.match(\"^[+-]?(\\d+(\\.\\d*)?|\\.\\d+)$\", split[1]) is not None\n",
        "            optim_params[split[0]] = float(split[1])\n",
        "    else:\n",
        "        method = s\n",
        "        optim_params = {}\n",
        "\n",
        "    if method == 'adadelta':\n",
        "        optim_fn = optim.Adadelta\n",
        "    elif method == 'adagrad':\n",
        "        optim_fn = optim.Adagrad\n",
        "    elif method == 'adam':\n",
        "        optim_fn = optim.Adam\n",
        "    elif method == 'adamax':\n",
        "        optim_fn = optim.Adamax\n",
        "    elif method == 'asgd':\n",
        "        optim_fn = optim.ASGD\n",
        "    elif method == 'rmsprop':\n",
        "        optim_fn = optim.RMSprop\n",
        "    elif method == 'rprop':\n",
        "        optim_fn = optim.Rprop\n",
        "    elif method == 'sgd':\n",
        "        optim_fn = optim.SGD\n",
        "        assert 'lr' in optim_params\n",
        "    else:\n",
        "        raise Exception('Unknown optimization method: \"%s\"' % method)\n",
        "\n",
        "    # check that we give good parameters to the optimizer\n",
        "    expected_args = inspect.getargspec(optim_fn.__init__)[0]\n",
        "    assert expected_args[:2] == ['self', 'params']\n",
        "    if not all(k in expected_args[2:] for k in optim_params.keys()):\n",
        "        raise Exception('Unexpected parameters: expected \"%s\", got \"%s\"' % (\n",
        "            str(expected_args[2:]), str(optim_params.keys())))\n",
        "\n",
        "    return optim_fn, optim_params"
      ],
      "execution_count": 9,
      "outputs": []
    },
    {
      "cell_type": "markdown",
      "metadata": {
        "id": "8T5Yf68GQMLE"
      },
      "source": [
        "# Look At Your Data First"
      ]
    },
    {
      "cell_type": "code",
      "metadata": {
        "id": "SG40LXPdN5-m"
      },
      "source": [
        "def preprocess_df(quora_df, balance=True):  \n",
        "  quora_df['question1'] = quora_df['question1'].astype(str) \n",
        "  quora_df['question2'] = quora_df['question2'].astype(str)\n",
        "  if not balance:\n",
        "    premise_sents = quora_df['question1'].tolist()\n",
        "    hypothesis_sents = quora_df['question2'].tolist()\n",
        "    labels = quora_df['is_duplicate'].tolist() \n",
        "  else:\n",
        "    diff_df = quora_df.loc[quora_df['is_duplicate'] == 0]\n",
        "    simi_df = quora_df.loc[quora_df['is_duplicate'] == 1]\n",
        "    \n",
        "    balance_size = min(diff_df.shape[0], simi_df.shape[0])  \n",
        "    updated_diff_df = diff_df.sample(n=balance_size, random_state = 517)\n",
        "    \n",
        "    # No need to shuffle here because train_test_split will take care of it\n",
        "  \n",
        "    premise_sents = simi_df['question1'].tolist()\n",
        "    premise_sents += updated_diff_df['question1'].tolist()\n",
        "    \n",
        "    hypothesis_sents = simi_df['question2'].tolist()\n",
        "    hypothesis_sents += updated_diff_df['question2'].tolist()\n",
        "    \n",
        "    labels = simi_df['is_duplicate'].tolist()\n",
        "    labels += updated_diff_df['is_duplicate'].tolist()\n",
        "  \n",
        "  return premise_sents, hypothesis_sents, labels"
      ],
      "execution_count": 10,
      "outputs": []
    },
    {
      "cell_type": "code",
      "metadata": {
        "id": "bkT8PBLUOocE",
        "colab": {
          "base_uri": "https://localhost:8080/",
          "height": 495
        },
        "outputId": "d6c94e88-7462-4826-ec7f-65aaa3574115"
      },
      "source": [
        "quora_df = pd.read_csv(DATASET_PATH)\n",
        "quora_df.head(10)"
      ],
      "execution_count": 11,
      "outputs": [
        {
          "output_type": "execute_result",
          "data": {
            "text/html": [
              "<div>\n",
              "<style scoped>\n",
              "    .dataframe tbody tr th:only-of-type {\n",
              "        vertical-align: middle;\n",
              "    }\n",
              "\n",
              "    .dataframe tbody tr th {\n",
              "        vertical-align: top;\n",
              "    }\n",
              "\n",
              "    .dataframe thead th {\n",
              "        text-align: right;\n",
              "    }\n",
              "</style>\n",
              "<table border=\"1\" class=\"dataframe\">\n",
              "  <thead>\n",
              "    <tr style=\"text-align: right;\">\n",
              "      <th></th>\n",
              "      <th>id</th>\n",
              "      <th>qid1</th>\n",
              "      <th>qid2</th>\n",
              "      <th>question1</th>\n",
              "      <th>question2</th>\n",
              "      <th>is_duplicate</th>\n",
              "    </tr>\n",
              "  </thead>\n",
              "  <tbody>\n",
              "    <tr>\n",
              "      <th>0</th>\n",
              "      <td>0</td>\n",
              "      <td>1</td>\n",
              "      <td>2</td>\n",
              "      <td>What is the step by step guide to invest in sh...</td>\n",
              "      <td>What is the step by step guide to invest in sh...</td>\n",
              "      <td>0</td>\n",
              "    </tr>\n",
              "    <tr>\n",
              "      <th>1</th>\n",
              "      <td>1</td>\n",
              "      <td>3</td>\n",
              "      <td>4</td>\n",
              "      <td>What is the story of Kohinoor (Koh-i-Noor) Dia...</td>\n",
              "      <td>What would happen if the Indian government sto...</td>\n",
              "      <td>0</td>\n",
              "    </tr>\n",
              "    <tr>\n",
              "      <th>2</th>\n",
              "      <td>2</td>\n",
              "      <td>5</td>\n",
              "      <td>6</td>\n",
              "      <td>How can I increase the speed of my internet co...</td>\n",
              "      <td>How can Internet speed be increased by hacking...</td>\n",
              "      <td>0</td>\n",
              "    </tr>\n",
              "    <tr>\n",
              "      <th>3</th>\n",
              "      <td>3</td>\n",
              "      <td>7</td>\n",
              "      <td>8</td>\n",
              "      <td>Why am I mentally very lonely? How can I solve...</td>\n",
              "      <td>Find the remainder when [math]23^{24}[/math] i...</td>\n",
              "      <td>0</td>\n",
              "    </tr>\n",
              "    <tr>\n",
              "      <th>4</th>\n",
              "      <td>4</td>\n",
              "      <td>9</td>\n",
              "      <td>10</td>\n",
              "      <td>Which one dissolve in water quikly sugar, salt...</td>\n",
              "      <td>Which fish would survive in salt water?</td>\n",
              "      <td>0</td>\n",
              "    </tr>\n",
              "    <tr>\n",
              "      <th>5</th>\n",
              "      <td>5</td>\n",
              "      <td>11</td>\n",
              "      <td>12</td>\n",
              "      <td>Astrology: I am a Capricorn Sun Cap moon and c...</td>\n",
              "      <td>I'm a triple Capricorn (Sun, Moon and ascendan...</td>\n",
              "      <td>1</td>\n",
              "    </tr>\n",
              "    <tr>\n",
              "      <th>6</th>\n",
              "      <td>6</td>\n",
              "      <td>13</td>\n",
              "      <td>14</td>\n",
              "      <td>Should I buy tiago?</td>\n",
              "      <td>What keeps childern active and far from phone ...</td>\n",
              "      <td>0</td>\n",
              "    </tr>\n",
              "    <tr>\n",
              "      <th>7</th>\n",
              "      <td>7</td>\n",
              "      <td>15</td>\n",
              "      <td>16</td>\n",
              "      <td>How can I be a good geologist?</td>\n",
              "      <td>What should I do to be a great geologist?</td>\n",
              "      <td>1</td>\n",
              "    </tr>\n",
              "    <tr>\n",
              "      <th>8</th>\n",
              "      <td>8</td>\n",
              "      <td>17</td>\n",
              "      <td>18</td>\n",
              "      <td>When do you use シ instead of し?</td>\n",
              "      <td>When do you use \"&amp;\" instead of \"and\"?</td>\n",
              "      <td>0</td>\n",
              "    </tr>\n",
              "    <tr>\n",
              "      <th>9</th>\n",
              "      <td>9</td>\n",
              "      <td>19</td>\n",
              "      <td>20</td>\n",
              "      <td>Motorola (company): Can I hack my Charter Moto...</td>\n",
              "      <td>How do I hack Motorola DCX3400 for free internet?</td>\n",
              "      <td>0</td>\n",
              "    </tr>\n",
              "  </tbody>\n",
              "</table>\n",
              "</div>"
            ],
            "text/plain": [
              "   id  qid1  ...                                          question2 is_duplicate\n",
              "0   0     1  ...  What is the step by step guide to invest in sh...            0\n",
              "1   1     3  ...  What would happen if the Indian government sto...            0\n",
              "2   2     5  ...  How can Internet speed be increased by hacking...            0\n",
              "3   3     7  ...  Find the remainder when [math]23^{24}[/math] i...            0\n",
              "4   4     9  ...            Which fish would survive in salt water?            0\n",
              "5   5    11  ...  I'm a triple Capricorn (Sun, Moon and ascendan...            1\n",
              "6   6    13  ...  What keeps childern active and far from phone ...            0\n",
              "7   7    15  ...          What should I do to be a great geologist?            1\n",
              "8   8    17  ...              When do you use \"&\" instead of \"and\"?            0\n",
              "9   9    19  ...  How do I hack Motorola DCX3400 for free internet?            0\n",
              "\n",
              "[10 rows x 6 columns]"
            ]
          },
          "metadata": {
            "tags": []
          },
          "execution_count": 11
        }
      ]
    },
    {
      "cell_type": "code",
      "metadata": {
        "id": "eGl9c11I3yPo",
        "colab": {
          "base_uri": "https://localhost:8080/"
        },
        "outputId": "248812ec-9bbf-458f-dc00-9f8fbbb10eed"
      },
      "source": [
        "premise_sents, hypothesis_sents, labels = preprocess_df(quora_df, True)\n",
        "assert len(premise_sents) == len(hypothesis_sents) == len(labels)\n",
        "print(\"Total number of sentences in the dataset is\", str(len(labels)))"
      ],
      "execution_count": 12,
      "outputs": [
        {
          "output_type": "stream",
          "text": [
            "Total number of sentences in the dataset is 298612\n"
          ],
          "name": "stdout"
        }
      ]
    },
    {
      "cell_type": "markdown",
      "metadata": {
        "id": "GjWpyaAlz63V"
      },
      "source": [
        "# Data Preprocessing"
      ]
    },
    {
      "cell_type": "code",
      "metadata": {
        "id": "WKP-euuZ0SBI"
      },
      "source": [
        "import re\n",
        "REPLACE_BY_SPACE_RE = re.compile('[/(){}\\[\\]\\|@,;]')\n",
        "BAD_SYMBOLS_RE = re.compile('[^0-9a-z #+_]')\n",
        "\n",
        "def text_prepare(text):\n",
        "    \"\"\"\n",
        "        text: a string\n",
        "        \n",
        "        return: modified initial string\n",
        "    \"\"\"\n",
        "    text = str(text)\n",
        "    # text = text.lower() # lowercase text\n",
        "    # text = re.sub(REPLACE_BY_SPACE_RE, \" \", text) # replace REPLACE_BY_SPACE_RE symbols by space in text\n",
        "    # text = re.sub(BAD_SYMBOLS_RE, \"\", text)      # delete symbols which are in BAD_SYMBOLS_RE from text\n",
        "    # text = re.sub(' +', ' ', text)\n",
        "    return text"
      ],
      "execution_count": 13,
      "outputs": []
    },
    {
      "cell_type": "code",
      "metadata": {
        "id": "TaK0Vfaq3f0M"
      },
      "source": [
        "from sklearn.model_selection import train_test_split\n",
        "\n",
        "premise_prep = list(map(text_prepare, premise_sents))\n",
        "hypothesis_prep = list(map(text_prepare, hypothesis_sents))\n",
        "\n",
        "X = [(premise_prep[i], hypothesis_prep[i]) for i in range(len(labels))]\n",
        "\n",
        "y = labels\n",
        "X_train, X_temp, y_train, y_temp = train_test_split(X, y, test_size=0.2, random_state=46)\n",
        "X_val, X_test, y_val, y_test = train_test_split(X_temp, y_temp, test_size=0.5, random_state=46)"
      ],
      "execution_count": 14,
      "outputs": []
    },
    {
      "cell_type": "code",
      "metadata": {
        "id": "FIy_7eS43f2b",
        "colab": {
          "base_uri": "https://localhost:8080/"
        },
        "outputId": "49dc13b1-51d7-41ed-a094-32fb145b89ab"
      },
      "source": [
        "# Check if test set are balanced\n",
        "counter = 0\n",
        "for element in y_test:\n",
        "  if element == 0:\n",
        "    counter +=1 \n",
        "\n",
        "print(counter)\n",
        "print(len(y_test) - counter)"
      ],
      "execution_count": 15,
      "outputs": [
        {
          "output_type": "stream",
          "text": [
            "14944\n",
            "14918\n"
          ],
          "name": "stdout"
        }
      ]
    },
    {
      "cell_type": "code",
      "metadata": {
        "colab": {
          "base_uri": "https://localhost:8080/"
        },
        "id": "sji0I6SQiP65",
        "outputId": "b04b6096-1b2c-4260-8055-7c8aa77f5a2f"
      },
      "source": [
        "# Check if train set are balanced\n",
        "counter = 0\n",
        "for element in y_train:\n",
        "  if element == 0:\n",
        "    counter +=1 \n",
        "\n",
        "print(counter)\n",
        "print(len(y_train) - counter)"
      ],
      "execution_count": 16,
      "outputs": [
        {
          "output_type": "stream",
          "text": [
            "119494\n",
            "119395\n"
          ],
          "name": "stdout"
        }
      ]
    },
    {
      "cell_type": "code",
      "metadata": {
        "id": "n6monVwe3f4i"
      },
      "source": [
        "def get_data(X, y):\n",
        "  left = [s1 for s1, s2 in X]\n",
        "  right = [s2 for s1, s2 in X]\n",
        "\n",
        "  LABELS = {'different': 0, 'similar': 1}\n",
        "#   Y = np_utils.to_categorical(np.array(y), len(LABELS))\n",
        " \n",
        "  return [left, right, np.array(y)]"
      ],
      "execution_count": 17,
      "outputs": []
    },
    {
      "cell_type": "code",
      "metadata": {
        "id": "n9u0p6Pp31s1"
      },
      "source": [
        "training = get_data(X_train, y_train)\n",
        "validation = get_data(X_val, y_val)\n",
        "testing = get_data(X_test, y_test)"
      ],
      "execution_count": 18,
      "outputs": []
    },
    {
      "cell_type": "code",
      "metadata": {
        "id": "4r4x70N3474i",
        "colab": {
          "base_uri": "https://localhost:8080/"
        },
        "outputId": "5ec97305-2649-49be-fe00-cc260f1bfea1"
      },
      "source": [
        "testing[1][:5]"
      ],
      "execution_count": 19,
      "outputs": [
        {
          "output_type": "execute_result",
          "data": {
            "text/plain": [
              "['Would banning notes of denominations 500 and 1000 help to curb the black money in system?',\n",
              " 'Which country would be the best for setting up a natural cancer clinic, bearing in mind the setup cost, governmental regulations, and the degree of red tape, etc.?',\n",
              " 'Is the damage to prefrontal cortex reversible?',\n",
              " 'How much percentile should I aim for, to get into an IIM in CAT 2016?',\n",
              " 'What are the best ways to build a vacuole model?']"
            ]
          },
          "metadata": {
            "tags": []
          },
          "execution_count": 19
        }
      ]
    },
    {
      "cell_type": "code",
      "metadata": {
        "id": "UylW2bRC4bMQ",
        "colab": {
          "base_uri": "https://localhost:8080/"
        },
        "outputId": "86f8ccdc-7021-48ee-c05a-936557767b94"
      },
      "source": [
        "word_emb_file = ROOT_DIR + \"glove.840B.300d.txt\"\n",
        "word_vec = build_vocab(training[0] + training[1] +\n",
        "                       validation[0] + validation[1] +\n",
        "                       testing[0] + testing[1], word_emb_file)"
      ],
      "execution_count": 20,
      "outputs": [
        {
          "output_type": "stream",
          "text": [
            "Found 72764(/179653) words with glove vectors\n",
            "Vocab size : 72764\n"
          ],
          "name": "stdout"
        }
      ]
    },
    {
      "cell_type": "code",
      "metadata": {
        "id": "7_1XmfpC39v2"
      },
      "source": [
        "def preprocess(sentences):\n",
        "  return np.array([  ['<s>'] +\n",
        "              [word for word in sent.split() if word in word_vec] +\n",
        "              ['</s>'] \n",
        "              for sent in sentences])\n",
        "\n",
        "for index in [0, 1]:\n",
        "  training[index] = preprocess(training[index])\n",
        "  validation[index] = preprocess(validation[index])\n",
        "  testing[index] = preprocess(testing[index])"
      ],
      "execution_count": 21,
      "outputs": []
    },
    {
      "cell_type": "code",
      "metadata": {
        "id": "QHJGwIPM39yJ",
        "colab": {
          "base_uri": "https://localhost:8080/"
        },
        "outputId": "cfa279cb-6fb4-42e6-a746-9fc995b6fc04"
      },
      "source": [
        "training[0][0]"
      ],
      "execution_count": 22,
      "outputs": [
        {
          "output_type": "execute_result",
          "data": {
            "text/plain": [
              "['<s>',\n",
              " 'Harvard',\n",
              " 'College',\n",
              " 'What',\n",
              " 'is',\n",
              " 'general',\n",
              " 'shopping',\n",
              " 'advice',\n",
              " 'for',\n",
              " 'German',\n",
              " '</s>']"
            ]
          },
          "metadata": {
            "tags": []
          },
          "execution_count": 22
        }
      ]
    },
    {
      "cell_type": "code",
      "metadata": {
        "id": "b01kkCIGSlzG"
      },
      "source": [
        "config_nli_model = {\n",
        "    'n_words'        :  len(word_vec)         , # Number of distinct words in the wordvec\n",
        "    'word_emb_dim'   :  300                   , # Dimension of word embeddings\n",
        "    'dpout_model'    :  0.                    , # Dropout\n",
        "    'enc_lstm_dim'   :  2048                  ,\n",
        "    'dpout_fc'       :  0.5                   ,\n",
        "    'fc_dim'         :  512                   ,\n",
        "    'bsize'          :  64                    ,\n",
        "    'n_classes'      :  2                     ,\n",
        "    'pool_type'      :  'max'                 ,\n",
        "    'nonlinear_fc'   :  0                     ,\n",
        "    'encoder_type'   :  'InferSent'           , # see list of encoders\n",
        "    'use_cuda'       :  True                  ,\n",
        "    'optimizer'      :  \"adam\"         ,\n",
        "    'decay'          :  0.99                  ,\n",
        "    'max_norm'       :  5.                    ,\n",
        "    'minlr'          :  1e-5                  ,\n",
        "    'outputdir'      :  CHECKPOINT_DIR        ,\n",
        "    'outputmodelname':  'dmodel.pickle'     ,\n",
        "    'lrshrink'       :  5                     ,\n",
        "    'n_epochs'       :  10\n",
        "}\n"
      ],
      "execution_count": 23,
      "outputs": []
    },
    {
      "cell_type": "markdown",
      "metadata": {
        "id": "1LQOMeUMBoop"
      },
      "source": [
        "# Model Architecture\n"
      ]
    },
    {
      "cell_type": "code",
      "metadata": {
        "id": "pdUiIwgsirhY",
        "colab": {
          "base_uri": "https://localhost:8080/"
        },
        "outputId": "17621d57-aa1b-4828-d1e3-7ba4e3891475"
      },
      "source": [
        "nli_net = NLINet(config_nli_model)\n",
        "print(nli_net)\n",
        "\n",
        "\n",
        "# loss\n",
        "weight = torch.FloatTensor(config_nli_model['n_classes']).fill_(1)\n",
        "loss_fn = nn.CrossEntropyLoss(weight=weight)\n",
        "loss_fn.size_average = False\n",
        "\n",
        "# optimizer\n",
        "optim_fn, optim_parameters = get_optimizer(config_nli_model['optimizer'])\n",
        "optimizer = optim_fn(nli_net.parameters(), **optim_parameters)\n",
        "\n",
        "# cuda by default\n",
        "nli_net.cuda()\n",
        "loss_fn.cuda()\n",
        "\n",
        "\n",
        "val_acc_best = -1e10\n",
        "adam_stop = False\n",
        "stop_training = False\n",
        "lr = optim_parameters['lr'] if 'sgd' in config_nli_model['optimizer'] else None"
      ],
      "execution_count": 24,
      "outputs": [
        {
          "output_type": "stream",
          "text": [
            "NLINet(\n",
            "  (encoder): InferSent(\n",
            "    (enc_lstm): LSTM(300, 2048, bidirectional=True)\n",
            "  )\n",
            "  (classifier): Sequential(\n",
            "    (0): Linear(in_features=16384, out_features=2, bias=True)\n",
            "  )\n",
            ")\n"
          ],
          "name": "stdout"
        }
      ]
    },
    {
      "cell_type": "code",
      "metadata": {
        "id": "rS630XCbfP2B"
      },
      "source": [
        "# some name changes...\n",
        "train = training\n",
        "valid = validation\n",
        "test = testing"
      ],
      "execution_count": 25,
      "outputs": []
    },
    {
      "cell_type": "markdown",
      "metadata": {
        "id": "gYcCOJy_KLXv"
      },
      "source": [
        "# Training"
      ]
    },
    {
      "cell_type": "code",
      "metadata": {
        "id": "DgUSo1CmYaf4"
      },
      "source": [
        "def trainepoch(epoch):\n",
        "    print('\\nTRAINING : Epoch ' + str(epoch))\n",
        "    nli_net.train()\n",
        "    all_costs = []\n",
        "    logs = []\n",
        "    words_count = 0\n",
        "\n",
        "    last_time = time.time()\n",
        "    correct = 0.\n",
        "    # shuffle the data\n",
        "    permutation = np.random.permutation(len(train[0]))\n",
        "\n",
        "    s1 = train[0][permutation]\n",
        "    s2 = train[1][permutation]\n",
        "    target = train[2][permutation]\n",
        "\n",
        "\n",
        "    optimizer.param_groups[0]['lr'] = optimizer.param_groups[0]['lr'] * config_nli_model['decay'] if epoch>1\\\n",
        "        and 'sgd' in config_nli_model['optimizer'] else optimizer.param_groups[0]['lr']\n",
        "    print('Learning rate : {0}'.format(optimizer.param_groups[0]['lr']))\n",
        "\n",
        "    for stidx in range(0, len(s1), config_nli_model['bsize']):\n",
        "        # prepare batch\n",
        "        s1_batch, s1_len = get_batch(s1[stidx:stidx + config_nli_model['bsize']],\n",
        "                                     word_vec, config_nli_model['word_emb_dim'])\n",
        "        s2_batch, s2_len = get_batch(s2[stidx:stidx + config_nli_model['bsize']],\n",
        "                                     word_vec, config_nli_model['word_emb_dim'])\n",
        "        s1_batch, s2_batch = Variable(s1_batch.cuda()), Variable(s2_batch.cuda())\n",
        "        tgt_batch = Variable(torch.LongTensor(target[stidx:stidx + config_nli_model['bsize']])).cuda()\n",
        "        k = s1_batch.size(1)  # actual batch size\n",
        "\n",
        "        # model forward\n",
        "        output = nli_net((s1_batch, s1_len), (s2_batch, s2_len))\n",
        "\n",
        "        pred = output.data.max(1)[1]\n",
        "        correct += pred.long().eq(tgt_batch.data.long()).cpu().sum()\n",
        "        assert len(pred) == len(s1[stidx:stidx + config_nli_model['bsize']])\n",
        "\n",
        "        # loss\n",
        "        loss = loss_fn(output, tgt_batch)\n",
        "        all_costs.append(loss.data.item())\n",
        "        words_count += (s1_batch.nelement() + s2_batch.nelement()) / config_nli_model['word_emb_dim']\n",
        "\n",
        "        # backward\n",
        "        optimizer.zero_grad()\n",
        "        loss.backward()\n",
        "\n",
        "        # gradient clipping (off by default)\n",
        "        shrink_factor = 1\n",
        "        total_norm = 0\n",
        "\n",
        "        for p in nli_net.parameters():\n",
        "            if p.requires_grad:\n",
        "                p.grad.data.div_(k)  # divide by the actual batch size\n",
        "                total_norm += p.grad.data.norm() ** 2\n",
        "        total_norm = np.sqrt(total_norm.cpu())\n",
        "\n",
        "        if total_norm > config_nli_model['max_norm']:\n",
        "            shrink_factor = config_nli_model['max_norm'] / total_norm\n",
        "        current_lr = optimizer.param_groups[0]['lr'] # current lr (no external \"lr\", for adam)\n",
        "        optimizer.param_groups[0]['lr'] = current_lr * shrink_factor # just for update\n",
        "\n",
        "        # optimizer step\n",
        "        optimizer.step()\n",
        "        optimizer.param_groups[0]['lr'] = current_lr\n",
        "\n",
        "        if len(all_costs) == 1000:\n",
        "            logs.append('{0} ; loss {1} ; sentence/s {2} ; words/s {3} ; accuracy train : {4}'.format(\n",
        "                            stidx, \n",
        "                            round(np.mean(all_costs), 5),\n",
        "                            int(len(all_costs) * config_nli_model['bsize'] / (time.time() - last_time)),\n",
        "                            int(words_count * 1.0 / (time.time() - last_time)),\n",
        "                            round(100.*correct.data.item()/(stidx+k), 2)))\n",
        "            print(logs[-1])\n",
        "            last_time = time.time()\n",
        "            words_count = 0\n",
        "            all_costs = []\n",
        "    train_acc = round(100 * correct.data.item()/len(s1), 2)\n",
        "    print('results : epoch {0} ; mean accuracy train : {1}'\n",
        "          .format(epoch, train_acc))\n",
        "    return train_acc"
      ],
      "execution_count": 28,
      "outputs": []
    },
    {
      "cell_type": "code",
      "metadata": {
        "id": "cjul12UHYpdE"
      },
      "source": [
        "def evaluate(epoch, eval_type='valid', final_eval=False):\n",
        "    nli_net.eval()\n",
        "    correct = 0.\n",
        "    global val_acc_best, lr, stop_training, adam_stop\n",
        "\n",
        "    if eval_type == 'valid':\n",
        "        print('\\nVALIDATION : Epoch {0}'.format(epoch))\n",
        "\n",
        "    s1 = valid[0] if eval_type == 'valid' else test[0]\n",
        "    s2 = valid[1] if eval_type == 'valid' else test[1]\n",
        "    target = valid[2] if eval_type == 'valid' else test[2]\n",
        "\n",
        "    for i in range(0, len(s1), config_nli_model['bsize']):\n",
        "        # prepare batch\n",
        "        s1_batch, s1_len = get_batch(s1[i:i + config_nli_model['bsize']], word_vec, config_nli_model['word_emb_dim'])\n",
        "        s2_batch, s2_len = get_batch(s2[i:i + config_nli_model['bsize']], word_vec, config_nli_model['word_emb_dim'])\n",
        "        s1_batch, s2_batch = Variable(s1_batch.cuda()), Variable(s2_batch.cuda())\n",
        "        tgt_batch = Variable(torch.LongTensor(target[i:i + config_nli_model['bsize']])).cuda()\n",
        "\n",
        "        # model forward\n",
        "        output = nli_net((s1_batch, s1_len), (s2_batch, s2_len))\n",
        "\n",
        "        pred = output.data.max(1)[1]\n",
        "        correct += pred.long().eq(tgt_batch.data.long()).cpu().sum()\n",
        "\n",
        "    # save model\n",
        "    eval_acc = round(100 * correct.data.item()/ len(s1), 3)\n",
        "    if final_eval:\n",
        "        print('finalgrep : accuracy {0} : {1}'.format(eval_type, eval_acc))\n",
        "    else:\n",
        "        print('togrep : results : epoch {0} ; mean accuracy {1} :\\\n",
        "              {2}'.format(epoch, eval_type, eval_acc))\n",
        "\n",
        "    if eval_type == 'valid' and epoch <= config_nli_model['n_epochs']:\n",
        "        if eval_acc > val_acc_best:\n",
        "            print('saving model at epoch {0}'.format(epoch))\n",
        "            if not os.path.exists(config_nli_model['outputdir']):\n",
        "                os.makedirs(config_nli_model['outputdir'])\n",
        "            torch.save(nli_net.state_dict(), os.path.join(config_nli_model['outputdir'],\n",
        "                       config_nli_model['outputmodelname']))\n",
        "            val_acc_best = eval_acc\n",
        "        else:\n",
        "            if 'sgd' in config_nli_model['optimizer']:\n",
        "                optimizer.param_groups[0]['lr'] = optimizer.param_groups[0]['lr'] / config_nli_model['lrshrink']\n",
        "                print('Shrinking lr by : {0}. New lr = {1}'\n",
        "                      .format(config_nli_model['lrshrink'],\n",
        "                              optimizer.param_groups[0]['lr']))\n",
        "                if optimizer.param_groups[0]['lr'] < config_nli_model['minlr']:\n",
        "                    stop_training = True\n",
        "            if 'adam' in config_nli_model['optimizer']:\n",
        "                # early stopping (at 2nd decrease in accuracy)\n",
        "                stop_training = adam_stop\n",
        "                adam_stop = True\n",
        "    return eval_acc\n"
      ],
      "execution_count": 29,
      "outputs": []
    },
    {
      "cell_type": "code",
      "metadata": {
        "id": "5QmGW-vSYpfX",
        "colab": {
          "base_uri": "https://localhost:8080/"
        },
        "outputId": "6ae6df16-e088-4e5f-e897-7f57a7e0bae5"
      },
      "source": [
        "\"\"\"\n",
        "Train model on Natural Language Inference task\n",
        "\"\"\"\n",
        "epoch = 1\n",
        "\n",
        "train_history = []\n",
        "val_history = []\n",
        "\n",
        "while not stop_training and epoch <= config_nli_model['n_epochs']:\n",
        "    train_acc = trainepoch(epoch)\n",
        "    eval_acc = evaluate(epoch, 'valid')\n",
        "    epoch += 1\n",
        "    train_history.append(train_acc)\n",
        "    val_history.append(eval_acc)\n",
        "\n",
        "# Run best model on test set.\n",
        "nli_net.load_state_dict(torch.load(os.path.join(config_nli_model['outputdir'], config_nli_model['outputmodelname'])))\n",
        "\n",
        "print('\\nTEST : Epoch {0}'.format(epoch))\n",
        "evaluate(1e6, 'valid', True)\n",
        "evaluate(0, 'test', True)"
      ],
      "execution_count": 30,
      "outputs": [
        {
          "output_type": "stream",
          "text": [
            "\n",
            "TRAINING : Epoch 1\n",
            "Learning rate : 0.001\n",
            "63936 ; loss 0.56438 ; sentence/s 521 ; words/s 32365 ; accuracy train : 73.28\n",
            "127936 ; loss 0.52717 ; sentence/s 520 ; words/s 32566 ; accuracy train : 75.39\n",
            "191936 ; loss 0.51939 ; sentence/s 521 ; words/s 32561 ; accuracy train : 76.36\n",
            "results : epoch 1 ; mean accuracy train : 76.95\n",
            "\n",
            "VALIDATION : Epoch 1\n",
            "togrep : results : epoch 1 ; mean accuracy valid :              78.983\n",
            "saving model at epoch 1\n",
            "\n",
            "TRAINING : Epoch 2\n",
            "Learning rate : 0.001\n",
            "63936 ; loss 0.48951 ; sentence/s 521 ; words/s 32536 ; accuracy train : 81.71\n",
            "127936 ; loss 0.48807 ; sentence/s 521 ; words/s 32681 ; accuracy train : 81.71\n",
            "191936 ; loss 0.48426 ; sentence/s 523 ; words/s 32464 ; accuracy train : 81.86\n",
            "results : epoch 2 ; mean accuracy train : 81.94\n",
            "\n",
            "VALIDATION : Epoch 2\n",
            "togrep : results : epoch 2 ; mean accuracy valid :              80.141\n",
            "saving model at epoch 2\n",
            "\n",
            "TRAINING : Epoch 3\n",
            "Learning rate : 0.001\n",
            "63936 ; loss 0.45358 ; sentence/s 524 ; words/s 32511 ; accuracy train : 85.65\n",
            "127936 ; loss 0.46009 ; sentence/s 521 ; words/s 32729 ; accuracy train : 85.22\n",
            "191936 ; loss 0.45898 ; sentence/s 521 ; words/s 32695 ; accuracy train : 85.13\n",
            "results : epoch 3 ; mean accuracy train : 85.09\n",
            "\n",
            "VALIDATION : Epoch 3\n",
            "togrep : results : epoch 3 ; mean accuracy valid :              81.504\n",
            "saving model at epoch 3\n",
            "\n",
            "TRAINING : Epoch 4\n",
            "Learning rate : 0.001\n",
            "63936 ; loss 0.43285 ; sentence/s 518 ; words/s 32712 ; accuracy train : 87.87\n",
            "127936 ; loss 0.43491 ; sentence/s 524 ; words/s 32392 ; accuracy train : 87.74\n",
            "191936 ; loss 0.43697 ; sentence/s 521 ; words/s 32725 ; accuracy train : 87.59\n",
            "results : epoch 4 ; mean accuracy train : 87.44\n",
            "\n",
            "VALIDATION : Epoch 4\n",
            "togrep : results : epoch 4 ; mean accuracy valid :              82.201\n",
            "saving model at epoch 4\n",
            "\n",
            "TRAINING : Epoch 5\n",
            "Learning rate : 0.001\n",
            "63936 ; loss 0.41427 ; sentence/s 519 ; words/s 32688 ; accuracy train : 89.77\n",
            "127936 ; loss 0.41798 ; sentence/s 522 ; words/s 32428 ; accuracy train : 89.56\n",
            "191936 ; loss 0.42315 ; sentence/s 523 ; words/s 32513 ; accuracy train : 89.3\n",
            "results : epoch 5 ; mean accuracy train : 89.08\n",
            "\n",
            "VALIDATION : Epoch 5\n",
            "togrep : results : epoch 5 ; mean accuracy valid :              82.362\n",
            "saving model at epoch 5\n",
            "\n",
            "TRAINING : Epoch 6\n",
            "Learning rate : 0.001\n",
            "63936 ; loss 0.40334 ; sentence/s 524 ; words/s 32332 ; accuracy train : 90.91\n",
            "127936 ; loss 0.40771 ; sentence/s 521 ; words/s 32617 ; accuracy train : 90.65\n",
            "191936 ; loss 0.41231 ; sentence/s 519 ; words/s 32801 ; accuracy train : 90.41\n",
            "results : epoch 6 ; mean accuracy train : 90.25\n",
            "\n",
            "VALIDATION : Epoch 6\n",
            "togrep : results : epoch 6 ; mean accuracy valid :              82.552\n",
            "saving model at epoch 6\n",
            "\n",
            "TRAINING : Epoch 7\n",
            "Learning rate : 0.001\n",
            "63936 ; loss 0.397 ; sentence/s 522 ; words/s 32561 ; accuracy train : 91.53\n",
            "127936 ; loss 0.40011 ; sentence/s 523 ; words/s 32436 ; accuracy train : 91.38\n",
            "191936 ; loss 0.40218 ; sentence/s 521 ; words/s 32684 ; accuracy train : 91.25\n",
            "results : epoch 7 ; mean accuracy train : 91.07\n",
            "\n",
            "VALIDATION : Epoch 7\n",
            "togrep : results : epoch 7 ; mean accuracy valid :              82.462\n",
            "\n",
            "TRAINING : Epoch 8\n",
            "Learning rate : 0.001\n",
            "63936 ; loss 0.39039 ; sentence/s 522 ; words/s 32715 ; accuracy train : 92.25\n",
            "127936 ; loss 0.39551 ; sentence/s 524 ; words/s 32500 ; accuracy train : 91.94\n",
            "191936 ; loss 0.3972 ; sentence/s 520 ; words/s 32805 ; accuracy train : 91.8\n",
            "results : epoch 8 ; mean accuracy train : 91.64\n",
            "\n",
            "VALIDATION : Epoch 8\n",
            "togrep : results : epoch 8 ; mean accuracy valid :              82.881\n",
            "saving model at epoch 8\n",
            "\n",
            "TRAINING : Epoch 9\n",
            "Learning rate : 0.001\n",
            "63936 ; loss 0.38743 ; sentence/s 520 ; words/s 32610 ; accuracy train : 92.53\n",
            "127936 ; loss 0.38949 ; sentence/s 523 ; words/s 32590 ; accuracy train : 92.41\n",
            "191936 ; loss 0.39517 ; sentence/s 523 ; words/s 32618 ; accuracy train : 92.17\n",
            "results : epoch 9 ; mean accuracy train : 92.08\n",
            "\n",
            "VALIDATION : Epoch 9\n",
            "togrep : results : epoch 9 ; mean accuracy valid :              82.552\n",
            "\n",
            "TEST : Epoch 10\n",
            "\n",
            "VALIDATION : Epoch 1000000.0\n",
            "finalgrep : accuracy valid : 82.881\n",
            "finalgrep : accuracy test : 82.64\n"
          ],
          "name": "stdout"
        },
        {
          "output_type": "execute_result",
          "data": {
            "text/plain": [
              "82.64"
            ]
          },
          "metadata": {
            "tags": []
          },
          "execution_count": 30
        }
      ]
    },
    {
      "cell_type": "code",
      "metadata": {
        "id": "jFQNB1H4l_FX"
      },
      "source": [
        "# Save encoder instead of full model\n",
        "torch.save(nli_net.encoder.state_dict(), os.path.join(config_nli_model['outputdir'], config_nli_model['outputmodelname'] + '.encoder.pkl'))\n"
      ],
      "execution_count": 32,
      "outputs": []
    },
    {
      "cell_type": "code",
      "metadata": {
        "id": "V2doiT7LmZEC"
      },
      "source": [
        ""
      ],
      "execution_count": null,
      "outputs": []
    },
    {
      "cell_type": "code",
      "metadata": {
        "id": "HE3z6Y0xYpho"
      },
      "source": [
        "def inference(s1, s2, in_set=False):\n",
        "  # s1: LIST of premise\n",
        "  # s2: LIST of hypothesis\n",
        "  \n",
        "  if not in_set:\n",
        "    s1 = preprocess(s1)\n",
        "    s2 = preprocess(s2)\n",
        "    \n",
        "  s1_batch, s1_len = get_batch(s1[0:1], word_vec, config_nli_model['word_emb_dim'])\n",
        "  s2_batch, s2_len = get_batch(s2[0:1], word_vec, config_nli_model['word_emb_dim'])\n",
        "  s1_batch, s2_batch = Variable(s1_batch.cuda()), Variable(s2_batch.cuda())\n",
        "\n",
        "  # model forward\n",
        "  output = nli_net((s1_batch, s1_len), (s2_batch, s2_len))\n",
        "  return output.data.max(1)[1].item()"
      ],
      "execution_count": null,
      "outputs": []
    },
    {
      "cell_type": "code",
      "metadata": {
        "id": "pTuhnNLuYpkG",
        "colab": {
          "base_uri": "https://localhost:8080/",
          "height": 85
        },
        "outputId": "c2efabb2-38fd-4bd7-fa8c-4485fc1a144f"
      },
      "source": [
        "index = 32\n",
        "\n",
        "sentence1 = train[0][index: index+2]\n",
        "sentence2 = train[1][index: index+2]\n",
        "label = train[2][index: index+2][0]\n",
        "\n",
        "\n",
        "print(sentence1[0])\n",
        "print(sentence2[0])\n",
        "print(\"Prediction is\", inference(sentence1, sentence2, in_set=True))\n",
        "print(\"Label is\", label)"
      ],
      "execution_count": null,
      "outputs": [
        {
          "output_type": "stream",
          "text": [
            "['<s>', 'what', 'should', 'a', 'developer', 'do', 'to', 'become', 'a', 'top', 'developer', 'on', 'google', 'play', '</s>']\n",
            "['<s>', 'who', 'qualifies', 'to', 'be', 'a', 'top', 'developer', 'on', 'google', 'play', 'store', '</s>']\n",
            "Prediction is 0\n",
            "Label is 1\n"
          ],
          "name": "stdout"
        }
      ]
    }
  ]
}